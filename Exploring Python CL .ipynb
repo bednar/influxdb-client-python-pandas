{
 "cells": [
  {
   "cell_type": "code",
   "execution_count": 10,
   "metadata": {},
   "outputs": [],
   "source": [
    "import pandas as pd\n",
    "import time\n",
    "from datetime import datetime\n",
    "from fbprophet import Prophet"
   ]
  },
  {
   "cell_type": "code",
   "execution_count": 59,
   "metadata": {},
   "outputs": [],
   "source": [
    "from influxdb_client import InfluxDBClient, Point\n",
    "from influxdb_client.client.write_api import SYNCHRONOUS\n",
    "bucket = \"04abb7992a07e000\"\n",
    "client = InfluxDBClient(url=\"http://localhost:9999\", token=\"SVwyqngOyVUM7Ar0DB6nU2rA0il010F1r7wck1a24XF0JDfq15W1Xgz7FTAN3IQk8PkQH9KRoVkVg4hSxT1fIQ==\", org=\"Org\")\n",
    "query_api = client.query_api()\n",
    "write_api = client.write_api(write_options=SYNCHRONOUS)"
   ]
  },
  {
   "cell_type": "code",
   "execution_count": 117,
   "metadata": {},
   "outputs": [],
   "source": [
    "query = 'from(bucket:\"pandas \")' \\\n",
    "        ' |> range(start: -3h)'\\\n",
    "        ' |> filter(fn: (r) => r._measurement == \"activity\" or r._measurement == \"weather\")' \\\n",
    "        ' |> filter(fn: (r) => r.location == \"eur\" or r.location == \"us\")'\n",
    "result = client.query_api().query(org=\"Org\", query=query)\n",
    "\n"
   ]
  },
  {
   "cell_type": "code",
   "execution_count": 204,
   "metadata": {},
   "outputs": [
    {
     "name": "stdout",
     "output_type": "stream",
     "text": [
      "6.0 ballet\n",
      "8.0 tennis\n",
      "9.0 soccer\n",
      "81.0 None\n",
      "70.0 None\n",
      "50.0 None\n",
      "1.0 tag\n",
      "2.0 swimming\n",
      "70.0 None\n",
      "50.0 None\n",
      "51.0 None\n",
      "5.0 tennis\n",
      "6.0 soccer\n",
      "2.0 tag\n",
      "51.0 None\n",
      "7.0 football\n",
      "1.0 swimming\n",
      "3.0 football\n",
      "81.0 None\n",
      "5.0 ballet\n"
     ]
    }
   ],
   "source": [
    "raw = []\n",
    "record = []\n",
    "for table in result:\n",
    "    for record in table.records:\n",
    "        raw.append((record.get_field(), record.get_value(), record.get_time()))\n",
    "#         print(record.values[\"_time\"], record.values[\"_field\"]) \n",
    "        print(record.values.get(\"_value\"), record.values.get(\"type\"))\n"
   ]
  },
  {
   "cell_type": "code",
   "execution_count": 62,
   "metadata": {},
   "outputs": [
    {
     "data": {
      "text/plain": [
       "[('fun_level',\n",
       "  6.0,\n",
       "  datetime.datetime(2019, 10, 24, 18, 10, 17, 529757, tzinfo=datetime.timezone.utc)),\n",
       " ('fun_level',\n",
       "  8.0,\n",
       "  datetime.datetime(2019, 10, 24, 18, 10, 17, 529757, tzinfo=datetime.timezone.utc)),\n",
       " ('fun_level',\n",
       "  9.0,\n",
       "  datetime.datetime(2019, 10, 24, 18, 10, 17, 529757, tzinfo=datetime.timezone.utc)),\n",
       " ('temperature',\n",
       "  81.0,\n",
       "  datetime.datetime(2019, 10, 24, 18, 10, 17, 529757, tzinfo=datetime.timezone.utc)),\n",
       " ('humidity',\n",
       "  70.0,\n",
       "  datetime.datetime(2019, 10, 24, 18, 10, 17, 529757, tzinfo=datetime.timezone.utc))]"
      ]
     },
     "execution_count": 62,
     "metadata": {},
     "output_type": "execute_result"
    }
   ],
   "source": [
    "raw[0:5]"
   ]
  },
  {
   "cell_type": "code",
   "execution_count": 66,
   "metadata": {},
   "outputs": [
    {
     "data": {
      "text/html": [
       "<div>\n",
       "<style scoped>\n",
       "    .dataframe tbody tr th:only-of-type {\n",
       "        vertical-align: middle;\n",
       "    }\n",
       "\n",
       "    .dataframe tbody tr th {\n",
       "        vertical-align: top;\n",
       "    }\n",
       "\n",
       "    .dataframe thead th {\n",
       "        text-align: right;\n",
       "    }\n",
       "</style>\n",
       "<table border=\"1\" class=\"dataframe\">\n",
       "  <thead>\n",
       "    <tr style=\"text-align: right;\">\n",
       "      <th></th>\n",
       "      <th>field</th>\n",
       "      <th>value</th>\n",
       "      <th>datetime</th>\n",
       "    </tr>\n",
       "  </thead>\n",
       "  <tbody>\n",
       "    <tr>\n",
       "      <td>0</td>\n",
       "      <td>fun_level</td>\n",
       "      <td>6.0</td>\n",
       "      <td>2019-10-24</td>\n",
       "    </tr>\n",
       "    <tr>\n",
       "      <td>1</td>\n",
       "      <td>fun_level</td>\n",
       "      <td>8.0</td>\n",
       "      <td>2019-10-24</td>\n",
       "    </tr>\n",
       "    <tr>\n",
       "      <td>2</td>\n",
       "      <td>fun_level</td>\n",
       "      <td>9.0</td>\n",
       "      <td>2019-10-24</td>\n",
       "    </tr>\n",
       "    <tr>\n",
       "      <td>3</td>\n",
       "      <td>temperature</td>\n",
       "      <td>81.0</td>\n",
       "      <td>2019-10-24</td>\n",
       "    </tr>\n",
       "    <tr>\n",
       "      <td>4</td>\n",
       "      <td>humidity</td>\n",
       "      <td>70.0</td>\n",
       "      <td>2019-10-24</td>\n",
       "    </tr>\n",
       "  </tbody>\n",
       "</table>\n",
       "</div>"
      ],
      "text/plain": [
       "         field  value   datetime\n",
       "0    fun_level    6.0 2019-10-24\n",
       "1    fun_level    8.0 2019-10-24\n",
       "2    fun_level    9.0 2019-10-24\n",
       "3  temperature   81.0 2019-10-24\n",
       "4     humidity   70.0 2019-10-24"
      ]
     },
     "execution_count": 66,
     "metadata": {},
     "output_type": "execute_result"
    }
   ],
   "source": [
    "df=pd.DataFrame(raw, columns=['field','value','datetime'], index=None)\n",
    "df['datetime'] = df['datetime'].values.astype('<M8[D]')\n",
    "df.head()"
   ]
  },
  {
   "cell_type": "code",
   "execution_count": 202,
   "metadata": {},
   "outputs": [],
   "source": [
    "def build_flux_query(bucket,measurement,start,stop):\n",
    "    from_range = 'from(bucket:\"' + bucket + '\")' \\\n",
    "                 ' |> range(start:' + start + ', stop:' + stop +')'\n",
    "    if len(measurement) == 1:\n",
    "        measurement = ' |> filter(fn: (r) => r._measurement == \"' + measurement[0] \n",
    "    else:\n",
    "        m = []\n",
    "        for i in range(1,len(measurement)):\n",
    "            m.append(' or r._measurement == \"' + measurement[i] + '\"') \n",
    "        measurement = ' |> filter(fn: (r) => r._measurement == \"' + measurement[0] + '\"' + \"\".join(m) + ')' \n",
    "    query = from_range + measurement \n",
    "    return query\n",
    "   "
   ]
  },
  {
   "cell_type": "code",
   "execution_count": 203,
   "metadata": {},
   "outputs": [
    {
     "data": {
      "text/plain": [
       "'from(bucket:\"pandas\") |> range(start:-5h, stop:-1h) |> filter(fn: (r) => r._measurement == \"activity\" or r._measurement == \"weather\" or r._measurement == \"test\")'"
      ]
     },
     "execution_count": 203,
     "metadata": {},
     "output_type": "execute_result"
    }
   ],
   "source": [
    "build_flux_query(\"pandas\",[\"activity\",\"weather\",\"test\"],\"-5h\",\"-1h\")"
   ]
  },
  {
   "cell_type": "code",
   "execution_count": 166,
   "metadata": {},
   "outputs": [
    {
     "data": {
      "text/plain": [
       "'[\\'or r._measurement == \"today\"\\', \\'or r._measurement == \"yest\"\\', \\'or r._measurement == \"yew\"\\']'"
      ]
     },
     "execution_count": 166,
     "metadata": {},
     "output_type": "execute_result"
    }
   ],
   "source": [
    "str(y)"
   ]
  },
  {
   "cell_type": "code",
   "execution_count": 76,
   "metadata": {},
   "outputs": [],
   "source": [
    "\n",
    "def get_dataframe(precision,query,org,):\n",
    "    result = client.query_api().query(org=\"Org\", query=query)\n",
    "    raw = []\n",
    "    for table in result:\n",
    "        for record in table.records:\n",
    "            raw.append((record.get_field(), record.get_value(), record.get_time()))\n",
    "    df=pd.DataFrame(raw, columns=['field','value','datetime'], index=None)\n",
    "    df['datetime'] = df['datetime'].values.astype('<M8[' + precision + ']')\n",
    "    return df\n"
   ]
  },
  {
   "cell_type": "code",
   "execution_count": 80,
   "metadata": {},
   "outputs": [
    {
     "data": {
      "text/html": [
       "<div>\n",
       "<style scoped>\n",
       "    .dataframe tbody tr th:only-of-type {\n",
       "        vertical-align: middle;\n",
       "    }\n",
       "\n",
       "    .dataframe tbody tr th {\n",
       "        vertical-align: top;\n",
       "    }\n",
       "\n",
       "    .dataframe thead th {\n",
       "        text-align: right;\n",
       "    }\n",
       "</style>\n",
       "<table border=\"1\" class=\"dataframe\">\n",
       "  <thead>\n",
       "    <tr style=\"text-align: right;\">\n",
       "      <th></th>\n",
       "      <th>field</th>\n",
       "      <th>value</th>\n",
       "      <th>datetime</th>\n",
       "    </tr>\n",
       "  </thead>\n",
       "  <tbody>\n",
       "    <tr>\n",
       "      <td>0</td>\n",
       "      <td>fun_level</td>\n",
       "      <td>6.0</td>\n",
       "      <td>2019-10-24 18:10:17.529757</td>\n",
       "    </tr>\n",
       "    <tr>\n",
       "      <td>1</td>\n",
       "      <td>fun_level</td>\n",
       "      <td>8.0</td>\n",
       "      <td>2019-10-24 18:10:17.529757</td>\n",
       "    </tr>\n",
       "    <tr>\n",
       "      <td>2</td>\n",
       "      <td>fun_level</td>\n",
       "      <td>9.0</td>\n",
       "      <td>2019-10-24 18:10:17.529757</td>\n",
       "    </tr>\n",
       "    <tr>\n",
       "      <td>3</td>\n",
       "      <td>temperature</td>\n",
       "      <td>81.0</td>\n",
       "      <td>2019-10-24 18:10:17.529757</td>\n",
       "    </tr>\n",
       "    <tr>\n",
       "      <td>4</td>\n",
       "      <td>humidity</td>\n",
       "      <td>70.0</td>\n",
       "      <td>2019-10-24 18:10:17.529757</td>\n",
       "    </tr>\n",
       "    <tr>\n",
       "      <td>5</td>\n",
       "      <td>humidity</td>\n",
       "      <td>50.0</td>\n",
       "      <td>2019-10-24 18:10:17.529757</td>\n",
       "    </tr>\n",
       "    <tr>\n",
       "      <td>6</td>\n",
       "      <td>fun</td>\n",
       "      <td>1.0</td>\n",
       "      <td>2019-10-24 17:51:22.076670</td>\n",
       "    </tr>\n",
       "    <tr>\n",
       "      <td>7</td>\n",
       "      <td>fun</td>\n",
       "      <td>2.0</td>\n",
       "      <td>2019-10-24 17:51:22.076670</td>\n",
       "    </tr>\n",
       "    <tr>\n",
       "      <td>8</td>\n",
       "      <td>humidity</td>\n",
       "      <td>70.0</td>\n",
       "      <td>2019-10-24 18:10:17.529757</td>\n",
       "    </tr>\n",
       "    <tr>\n",
       "      <td>9</td>\n",
       "      <td>humidity</td>\n",
       "      <td>50.0</td>\n",
       "      <td>2019-10-24 18:10:17.529757</td>\n",
       "    </tr>\n",
       "    <tr>\n",
       "      <td>10</td>\n",
       "      <td>temperature</td>\n",
       "      <td>51.0</td>\n",
       "      <td>2019-10-24 18:10:17.529757</td>\n",
       "    </tr>\n",
       "    <tr>\n",
       "      <td>11</td>\n",
       "      <td>fun_level</td>\n",
       "      <td>5.0</td>\n",
       "      <td>2019-10-24 18:10:17.529757</td>\n",
       "    </tr>\n",
       "    <tr>\n",
       "      <td>12</td>\n",
       "      <td>fun_level</td>\n",
       "      <td>6.0</td>\n",
       "      <td>2019-10-24 18:10:17.529757</td>\n",
       "    </tr>\n",
       "    <tr>\n",
       "      <td>13</td>\n",
       "      <td>fun</td>\n",
       "      <td>2.0</td>\n",
       "      <td>2019-10-24 17:51:22.076670</td>\n",
       "    </tr>\n",
       "    <tr>\n",
       "      <td>14</td>\n",
       "      <td>temperature</td>\n",
       "      <td>51.0</td>\n",
       "      <td>2019-10-24 18:10:17.529757</td>\n",
       "    </tr>\n",
       "    <tr>\n",
       "      <td>15</td>\n",
       "      <td>fun_level</td>\n",
       "      <td>7.0</td>\n",
       "      <td>2019-10-24 18:10:17.529757</td>\n",
       "    </tr>\n",
       "    <tr>\n",
       "      <td>16</td>\n",
       "      <td>fun</td>\n",
       "      <td>1.0</td>\n",
       "      <td>2019-10-24 17:51:22.076670</td>\n",
       "    </tr>\n",
       "    <tr>\n",
       "      <td>17</td>\n",
       "      <td>fun_level</td>\n",
       "      <td>3.0</td>\n",
       "      <td>2019-10-24 18:10:17.529757</td>\n",
       "    </tr>\n",
       "    <tr>\n",
       "      <td>18</td>\n",
       "      <td>temperature</td>\n",
       "      <td>81.0</td>\n",
       "      <td>2019-10-24 18:10:17.529757</td>\n",
       "    </tr>\n",
       "    <tr>\n",
       "      <td>19</td>\n",
       "      <td>fun_level</td>\n",
       "      <td>5.0</td>\n",
       "      <td>2019-10-24 18:10:17.529757</td>\n",
       "    </tr>\n",
       "  </tbody>\n",
       "</table>\n",
       "</div>"
      ],
      "text/plain": [
       "          field  value                   datetime\n",
       "0     fun_level    6.0 2019-10-24 18:10:17.529757\n",
       "1     fun_level    8.0 2019-10-24 18:10:17.529757\n",
       "2     fun_level    9.0 2019-10-24 18:10:17.529757\n",
       "3   temperature   81.0 2019-10-24 18:10:17.529757\n",
       "4      humidity   70.0 2019-10-24 18:10:17.529757\n",
       "5      humidity   50.0 2019-10-24 18:10:17.529757\n",
       "6           fun    1.0 2019-10-24 17:51:22.076670\n",
       "7           fun    2.0 2019-10-24 17:51:22.076670\n",
       "8      humidity   70.0 2019-10-24 18:10:17.529757\n",
       "9      humidity   50.0 2019-10-24 18:10:17.529757\n",
       "10  temperature   51.0 2019-10-24 18:10:17.529757\n",
       "11    fun_level    5.0 2019-10-24 18:10:17.529757\n",
       "12    fun_level    6.0 2019-10-24 18:10:17.529757\n",
       "13          fun    2.0 2019-10-24 17:51:22.076670\n",
       "14  temperature   51.0 2019-10-24 18:10:17.529757\n",
       "15    fun_level    7.0 2019-10-24 18:10:17.529757\n",
       "16          fun    1.0 2019-10-24 17:51:22.076670\n",
       "17    fun_level    3.0 2019-10-24 18:10:17.529757\n",
       "18  temperature   81.0 2019-10-24 18:10:17.529757\n",
       "19    fun_level    5.0 2019-10-24 18:10:17.529757"
      ]
     },
     "execution_count": 80,
     "metadata": {},
     "output_type": "execute_result"
    }
   ],
   "source": [
    "get_dataframe('ns',query,\"Org\")"
   ]
  },
  {
   "cell_type": "code",
   "execution_count": 118,
   "metadata": {},
   "outputs": [
    {
     "ename": "AttributeError",
     "evalue": "'FluxRecord' object has no attribute 'get_type'",
     "output_type": "error",
     "traceback": [
      "\u001b[0;31m---------------------------------------------------------------------------\u001b[0m",
      "\u001b[0;31mAttributeError\u001b[0m                            Traceback (most recent call last)",
      "\u001b[0;32m<ipython-input-118-eafa0416f17e>\u001b[0m in \u001b[0;36m<module>\u001b[0;34m\u001b[0m\n\u001b[1;32m     66\u001b[0m \u001b[0;32mfor\u001b[0m \u001b[0mtable\u001b[0m \u001b[0;32min\u001b[0m \u001b[0mresult\u001b[0m\u001b[0;34m:\u001b[0m\u001b[0;34m\u001b[0m\u001b[0;34m\u001b[0m\u001b[0m\n\u001b[1;32m     67\u001b[0m     \u001b[0;32mfor\u001b[0m \u001b[0mrecord\u001b[0m \u001b[0;32min\u001b[0m \u001b[0mtable\u001b[0m\u001b[0;34m.\u001b[0m\u001b[0mrecords\u001b[0m\u001b[0;34m:\u001b[0m\u001b[0;34m\u001b[0m\u001b[0;34m\u001b[0m\u001b[0m\n\u001b[0;32m---> 68\u001b[0;31m         \u001b[0mraw\u001b[0m\u001b[0;34m.\u001b[0m\u001b[0mappend\u001b[0m\u001b[0;34m(\u001b[0m\u001b[0;34m(\u001b[0m\u001b[0mrecord\u001b[0m\u001b[0;34m.\u001b[0m\u001b[0mget_field\u001b[0m\u001b[0;34m(\u001b[0m\u001b[0;34m)\u001b[0m\u001b[0;34m,\u001b[0m \u001b[0mrecord\u001b[0m\u001b[0;34m.\u001b[0m\u001b[0mget_value\u001b[0m\u001b[0;34m(\u001b[0m\u001b[0;34m)\u001b[0m\u001b[0;34m,\u001b[0m \u001b[0mrecord\u001b[0m\u001b[0;34m.\u001b[0m\u001b[0mget_time\u001b[0m\u001b[0;34m(\u001b[0m\u001b[0;34m)\u001b[0m\u001b[0;34m)\u001b[0m\u001b[0;34m,\u001b[0m \u001b[0mrecord\u001b[0m\u001b[0;34m.\u001b[0m\u001b[0mget_type\u001b[0m\u001b[0;34m(\u001b[0m\u001b[0;34m)\u001b[0m\u001b[0;34m)\u001b[0m\u001b[0;34m\u001b[0m\u001b[0;34m\u001b[0m\u001b[0m\n\u001b[0m\u001b[1;32m     69\u001b[0m \u001b[0;31m#         print(record.values[\"_time\"], record.values[\"_field\"])\u001b[0m\u001b[0;34m\u001b[0m\u001b[0;34m\u001b[0m\u001b[0;34m\u001b[0m\u001b[0m\n\u001b[1;32m     70\u001b[0m         \u001b[0mprint\u001b[0m\u001b[0;34m(\u001b[0m\u001b[0mrecord\u001b[0m\u001b[0;34m)\u001b[0m\u001b[0;34m\u001b[0m\u001b[0;34m\u001b[0m\u001b[0m\n",
      "\u001b[0;31mAttributeError\u001b[0m: 'FluxRecord' object has no attribute 'get_type'"
     ]
    }
   ],
   "source": [
    "class FluxStructure:\n",
    "    pass\n",
    "\n",
    "\n",
    "class FluxTable(FluxStructure):\n",
    "\n",
    "    def __init__(self) -> None:\n",
    "        self.columns = []\n",
    "        self.records = []\n",
    "\n",
    "    def get_group_key(self):\n",
    "        return list(filter(lambda column: (column.group is True), self.columns))\n",
    "\n",
    "    def __str__(self):\n",
    "        cls_name = type(self).__name__\n",
    "        return cls_name + \"() columns: \" + str(len(self.columns)) + \", records: \" + str(len(self.records))\n",
    "\n",
    "    def __iter__(self):\n",
    "        return iter(self.records)\n",
    "\n",
    "\n",
    "class FluxColumn(FluxStructure):\n",
    "    def __init__(self, index=None, label=None, data_type=None, group=None, default_value=None) -> None:\n",
    "        self.default_value = default_value\n",
    "        self.group = group\n",
    "        self.data_type = data_type\n",
    "        self.label = label\n",
    "        self.index = index\n",
    "\n",
    "\n",
    "class FluxRecord(FluxStructure):\n",
    "\n",
    "    def __init__(self, table, values=None) -> None:\n",
    "        if values is None:\n",
    "            values = {}\n",
    "        self.table = table\n",
    "        self.values = values\n",
    "\n",
    "    def get_start(self):\n",
    "        return self.values.get(\"_start\")\n",
    "\n",
    "    def get_stop(self):\n",
    "        return self.values.get(\"_stop\")\n",
    "\n",
    "    def get_time(self):\n",
    "        return self.values.get(\"_time\")\n",
    "\n",
    "    def get_value(self):\n",
    "        return self.values.get(\"_value\")\n",
    "\n",
    "    def get_field(self):\n",
    "        return self.values.get(\"_field\")\n",
    "\n",
    "    def get_measurement(self):\n",
    "        return self.values.get(\"_measurement\")\n",
    "    \n",
    "    def get_type(self):\n",
    "        return self.values.get(\"type\")\n",
    "\n",
    "    def __str__(self):\n",
    "        cls_name = type(self).__name__\n",
    "        return cls_name + \"() table: \" + str(self.table) + \", \" + str(self.values)\n",
    "    \n",
    "raw = []\n",
    "record = []\n",
    "for table in result:\n",
    "    for record in table.records:\n",
    "        raw.append((record.get_field(), record.get_value(), record.get_time()), record.get_type())\n",
    "#         print(record.values[\"_time\"], record.values[\"_field\"]) \n",
    "        print(record)"
   ]
  },
  {
   "cell_type": "code",
   "execution_count": null,
   "metadata": {},
   "outputs": [],
   "source": []
  }
 ],
 "metadata": {
  "kernelspec": {
   "display_name": "Python 3",
   "language": "python",
   "name": "python3"
  },
  "language_info": {
   "codemirror_mode": {
    "name": "ipython",
    "version": 3
   },
   "file_extension": ".py",
   "mimetype": "text/x-python",
   "name": "python",
   "nbconvert_exporter": "python",
   "pygments_lexer": "ipython3",
   "version": "3.6.9"
  }
 },
 "nbformat": 4,
 "nbformat_minor": 2
}
