{
 "cells": [
  {
   "cell_type": "code",
   "execution_count": 1,
   "metadata": {},
   "outputs": [],
   "source": [
    "import pandas as pd\n",
    "import time\n",
    "from datetime import datetime\n",
    "from flux_query import build_flux_query\n",
    "from flux_query import dataframe"
   ]
  },
  {
   "cell_type": "code",
   "execution_count": 2,
   "metadata": {},
   "outputs": [],
   "source": [
    "from influxdb_client import InfluxDBClient, Point\n",
    "from influxdb_client.client.write_api import SYNCHRONOUS\n",
    "bucket = \"04abb7992a07e000\"\n",
    "client = InfluxDBClient(url=\"http://localhost:9999\", token=\"SVwyqngOyVUM7Ar0DB6nU2rA0il010F1r7wck1a24XF0JDfq15W1Xgz7FTAN3IQk8PkQH9KRoVkVg4hSxT1fIQ==\", org=\"Org\")\n",
    "query_api = client.query_api()\n",
    "write_api = client.write_api(write_options=SYNCHRONOUS)"
   ]
  },
  {
   "cell_type": "code",
   "execution_count": 7,
   "metadata": {},
   "outputs": [
    {
     "data": {
      "text/plain": [
       "'from(bucket: \"pandas \")\\n|> range(start:-10d, stop:-1h)\\n|> filter(fn: (r) => r._measurement == \"activity\")\\n|> filter(fn: (r) => r.location == \"eur\" or r.location == \"us\")'"
      ]
     },
     "execution_count": 7,
     "metadata": {},
     "output_type": "execute_result"
    }
   ],
   "source": [
    "query = build_flux_query(bucket=\"pandas \",start=\"-10d\",stop=\"-1h\",filters=[(\"_measurement\",[\"activity\"]),(\"location\",[\"eur\",\"us\"])])\n",
    "query"
   ]
  },
  {
   "cell_type": "code",
   "execution_count": 15,
   "metadata": {},
   "outputs": [
    {
     "name": "stdout",
     "output_type": "stream",
     "text": [
      "FluxRecord() table: 0, {'result': '_result', 'table': 0, '_start': datetime.datetime(2019, 10, 20, 18, 14, 33, 660032, tzinfo=datetime.timezone.utc), '_stop': datetime.datetime(2019, 10, 30, 17, 14, 33, 660032, tzinfo=datetime.timezone.utc), '_time': datetime.datetime(2019, 10, 24, 18, 10, 17, 529757, tzinfo=datetime.timezone.utc), '_value': 6.0, '_field': 'fun_level', '_measurement': 'activity', 'location': 'us', 'type': 'ballet'}\n",
      "FluxRecord() table: 1, {'result': '_result', 'table': 1, '_start': datetime.datetime(2019, 10, 20, 18, 14, 33, 660032, tzinfo=datetime.timezone.utc), '_stop': datetime.datetime(2019, 10, 30, 17, 14, 33, 660032, tzinfo=datetime.timezone.utc), '_time': datetime.datetime(2019, 10, 24, 18, 10, 17, 529757, tzinfo=datetime.timezone.utc), '_value': 8.0, '_field': 'fun_level', '_measurement': 'activity', 'location': 'eur', 'type': 'tennis'}\n",
      "FluxRecord() table: 2, {'result': '_result', 'table': 2, '_start': datetime.datetime(2019, 10, 20, 18, 14, 33, 660032, tzinfo=datetime.timezone.utc), '_stop': datetime.datetime(2019, 10, 30, 17, 14, 33, 660032, tzinfo=datetime.timezone.utc), '_time': datetime.datetime(2019, 10, 24, 18, 10, 17, 529757, tzinfo=datetime.timezone.utc), '_value': 9.0, '_field': 'fun_level', '_measurement': 'activity', 'location': 'eur', 'type': 'soccer'}\n",
      "FluxRecord() table: 3, {'result': '_result', 'table': 3, '_start': datetime.datetime(2019, 10, 20, 18, 14, 33, 660032, tzinfo=datetime.timezone.utc), '_stop': datetime.datetime(2019, 10, 30, 17, 14, 33, 660032, tzinfo=datetime.timezone.utc), '_time': datetime.datetime(2019, 10, 24, 17, 51, 22, 76670, tzinfo=datetime.timezone.utc), '_value': 1.0, '_field': 'fun', '_measurement': 'activity', 'location': 'us', 'type': 'tag'}\n",
      "FluxRecord() table: 4, {'result': '_result', 'table': 4, '_start': datetime.datetime(2019, 10, 20, 18, 14, 33, 660032, tzinfo=datetime.timezone.utc), '_stop': datetime.datetime(2019, 10, 30, 17, 14, 33, 660032, tzinfo=datetime.timezone.utc), '_time': datetime.datetime(2019, 10, 24, 17, 51, 22, 76670, tzinfo=datetime.timezone.utc), '_value': 2.0, '_field': 'fun', '_measurement': 'activity', 'location': 'eur', 'type': 'swimming'}\n",
      "FluxRecord() table: 5, {'result': '_result', 'table': 5, '_start': datetime.datetime(2019, 10, 20, 18, 14, 33, 660032, tzinfo=datetime.timezone.utc), '_stop': datetime.datetime(2019, 10, 30, 17, 14, 33, 660032, tzinfo=datetime.timezone.utc), '_time': datetime.datetime(2019, 10, 24, 18, 10, 17, 529757, tzinfo=datetime.timezone.utc), '_value': 5.0, '_field': 'fun_level', '_measurement': 'activity', 'location': 'us', 'type': 'tennis'}\n",
      "FluxRecord() table: 6, {'result': '_result', 'table': 6, '_start': datetime.datetime(2019, 10, 20, 18, 14, 33, 660032, tzinfo=datetime.timezone.utc), '_stop': datetime.datetime(2019, 10, 30, 17, 14, 33, 660032, tzinfo=datetime.timezone.utc), '_time': datetime.datetime(2019, 10, 24, 18, 10, 17, 529757, tzinfo=datetime.timezone.utc), '_value': 6.0, '_field': 'fun_level', '_measurement': 'activity', 'location': 'us', 'type': 'soccer'}\n",
      "FluxRecord() table: 7, {'result': '_result', 'table': 7, '_start': datetime.datetime(2019, 10, 20, 18, 14, 33, 660032, tzinfo=datetime.timezone.utc), '_stop': datetime.datetime(2019, 10, 30, 17, 14, 33, 660032, tzinfo=datetime.timezone.utc), '_time': datetime.datetime(2019, 10, 24, 17, 51, 22, 76670, tzinfo=datetime.timezone.utc), '_value': 2.0, '_field': 'fun', '_measurement': 'activity', 'location': 'eur', 'type': 'tag'}\n",
      "FluxRecord() table: 8, {'result': '_result', 'table': 8, '_start': datetime.datetime(2019, 10, 20, 18, 14, 33, 660032, tzinfo=datetime.timezone.utc), '_stop': datetime.datetime(2019, 10, 30, 17, 14, 33, 660032, tzinfo=datetime.timezone.utc), '_time': datetime.datetime(2019, 10, 24, 18, 10, 17, 529757, tzinfo=datetime.timezone.utc), '_value': 7.0, '_field': 'fun_level', '_measurement': 'activity', 'location': 'us', 'type': 'football'}\n",
      "FluxRecord() table: 9, {'result': '_result', 'table': 9, '_start': datetime.datetime(2019, 10, 20, 18, 14, 33, 660032, tzinfo=datetime.timezone.utc), '_stop': datetime.datetime(2019, 10, 30, 17, 14, 33, 660032, tzinfo=datetime.timezone.utc), '_time': datetime.datetime(2019, 10, 24, 17, 51, 22, 76670, tzinfo=datetime.timezone.utc), '_value': 1.0, '_field': 'fun', '_measurement': 'activity', 'location': 'us', 'type': 'swimming'}\n",
      "FluxRecord() table: 10, {'result': '_result', 'table': 10, '_start': datetime.datetime(2019, 10, 20, 18, 14, 33, 660032, tzinfo=datetime.timezone.utc), '_stop': datetime.datetime(2019, 10, 30, 17, 14, 33, 660032, tzinfo=datetime.timezone.utc), '_time': datetime.datetime(2019, 10, 24, 18, 10, 17, 529757, tzinfo=datetime.timezone.utc), '_value': 3.0, '_field': 'fun_level', '_measurement': 'activity', 'location': 'eur', 'type': 'football'}\n",
      "FluxRecord() table: 11, {'result': '_result', 'table': 11, '_start': datetime.datetime(2019, 10, 20, 18, 14, 33, 660032, tzinfo=datetime.timezone.utc), '_stop': datetime.datetime(2019, 10, 30, 17, 14, 33, 660032, tzinfo=datetime.timezone.utc), '_time': datetime.datetime(2019, 10, 24, 18, 10, 17, 529757, tzinfo=datetime.timezone.utc), '_value': 5.0, '_field': 'fun_level', '_measurement': 'activity', 'location': 'eur', 'type': 'ballet'}\n"
     ]
    }
   ],
   "source": [
    "result = client.query_api().query(org=\"Org\", query=query)\n",
    "for table in result:\n",
    "    for record in table.records:\n",
    "        print(record)"
   ]
  },
  {
   "cell_type": "code",
   "execution_count": 8,
   "metadata": {},
   "outputs": [
    {
     "data": {
      "text/html": [
       "<div>\n",
       "<style scoped>\n",
       "    .dataframe tbody tr th:only-of-type {\n",
       "        vertical-align: middle;\n",
       "    }\n",
       "\n",
       "    .dataframe tbody tr th {\n",
       "        vertical-align: top;\n",
       "    }\n",
       "\n",
       "    .dataframe thead th {\n",
       "        text-align: right;\n",
       "    }\n",
       "</style>\n",
       "<table border=\"1\" class=\"dataframe\">\n",
       "  <thead>\n",
       "    <tr style=\"text-align: right;\">\n",
       "      <th></th>\n",
       "      <th>measurement</th>\n",
       "      <th>tag_key</th>\n",
       "      <th>tag_value</th>\n",
       "      <th>field</th>\n",
       "      <th>value</th>\n",
       "      <th>datetime</th>\n",
       "    </tr>\n",
       "  </thead>\n",
       "  <tbody>\n",
       "    <tr>\n",
       "      <td>0</td>\n",
       "      <td>activity</td>\n",
       "      <td>type</td>\n",
       "      <td>ballet</td>\n",
       "      <td>fun_level</td>\n",
       "      <td>6.0</td>\n",
       "      <td>2019-10-24 18:10:17.529757</td>\n",
       "    </tr>\n",
       "    <tr>\n",
       "      <td>1</td>\n",
       "      <td>activity</td>\n",
       "      <td>location</td>\n",
       "      <td>us</td>\n",
       "      <td>fun_level</td>\n",
       "      <td>6.0</td>\n",
       "      <td>2019-10-24 18:10:17.529757</td>\n",
       "    </tr>\n",
       "    <tr>\n",
       "      <td>2</td>\n",
       "      <td>activity</td>\n",
       "      <td>type</td>\n",
       "      <td>tennis</td>\n",
       "      <td>fun_level</td>\n",
       "      <td>8.0</td>\n",
       "      <td>2019-10-24 18:10:17.529757</td>\n",
       "    </tr>\n",
       "    <tr>\n",
       "      <td>3</td>\n",
       "      <td>activity</td>\n",
       "      <td>location</td>\n",
       "      <td>eur</td>\n",
       "      <td>fun_level</td>\n",
       "      <td>8.0</td>\n",
       "      <td>2019-10-24 18:10:17.529757</td>\n",
       "    </tr>\n",
       "    <tr>\n",
       "      <td>4</td>\n",
       "      <td>activity</td>\n",
       "      <td>type</td>\n",
       "      <td>soccer</td>\n",
       "      <td>fun_level</td>\n",
       "      <td>9.0</td>\n",
       "      <td>2019-10-24 18:10:17.529757</td>\n",
       "    </tr>\n",
       "  </tbody>\n",
       "</table>\n",
       "</div>"
      ],
      "text/plain": [
       "  measurement   tag_key tag_value      field  value                   datetime\n",
       "0    activity      type    ballet  fun_level    6.0 2019-10-24 18:10:17.529757\n",
       "1    activity  location        us  fun_level    6.0 2019-10-24 18:10:17.529757\n",
       "2    activity      type    tennis  fun_level    8.0 2019-10-24 18:10:17.529757\n",
       "3    activity  location       eur  fun_level    8.0 2019-10-24 18:10:17.529757\n",
       "4    activity      type    soccer  fun_level    9.0 2019-10-24 18:10:17.529757"
      ]
     },
     "execution_count": 8,
     "metadata": {},
     "output_type": "execute_result"
    }
   ],
   "source": [
    "test=dataframe(client,'ns',query,\"Org\",[\"type\",\"location\"])\n",
    "test.head()"
   ]
  },
  {
   "cell_type": "code",
   "execution_count": 5,
   "metadata": {},
   "outputs": [],
   "source": [
    "def lp(df,measurement,tag_key,tag_value,field,value,datetime):\n",
    "    lines= [str(df[measurement][d]) + \",\" \n",
    "            + str(df[tag_key][d]) + \"=\" + str(df[tag_value][d]) \n",
    "            + \" \" + str(df[field][d]) + \"=\" + str(df[value][d]) + \",\" \n",
    "            + \" \" + str(int(time.mktime(df[datetime][d].timetuple()))) + \"000000000\" for d in range(len(df))]\n",
    "    return lines"
   ]
  },
  {
   "cell_type": "code",
   "execution_count": 6,
   "metadata": {},
   "outputs": [
    {
     "data": {
      "text/plain": [
       "['activity,type=ballet fun_level=6.0, 1571958617000000000',\n",
       " 'activity,location=us fun_level=6.0, 1571958617000000000',\n",
       " 'activity,type=tennis fun_level=8.0, 1571958617000000000',\n",
       " 'activity,location=eur fun_level=8.0, 1571958617000000000',\n",
       " 'activity,type=soccer fun_level=9.0, 1571958617000000000',\n",
       " 'activity,location=eur fun_level=9.0, 1571958617000000000',\n",
       " 'weather,type=None temperature=81.0, 1571957482000000000',\n",
       " 'weather,location=us-eastt temperature=81.0, 1571957482000000000',\n",
       " 'weather,type=None temperature=81.0, 1571958617000000000',\n",
       " 'weather,location=us temperature=81.0, 1571958617000000000',\n",
       " 'weather,type=None humidity=70.0, 1571958617000000000',\n",
       " 'weather,location=eur humidity=70.0, 1571958617000000000',\n",
       " 'weather,type=None humidity=50.0, 1571958617000000000',\n",
       " 'weather,location=eur humidity=50.0, 1571958617000000000',\n",
       " 'activity,type=tag fun=1.0, 1571957482000000000',\n",
       " 'activity,location=us fun=1.0, 1571957482000000000',\n",
       " 'activity,type=swimming fun=2.0, 1571957482000000000',\n",
       " 'activity,location=eur fun=2.0, 1571957482000000000',\n",
       " 'weather,type=None humidity=70.0, 1571958617000000000',\n",
       " 'weather,location=us humidity=70.0, 1571958617000000000',\n",
       " 'weather,type=None humidity=50.0, 1571958617000000000',\n",
       " 'weather,location=us humidity=50.0, 1571958617000000000',\n",
       " 'weather,type=None temperature=51.0, 1571958617000000000',\n",
       " 'weather,location=eur temperature=51.0, 1571958617000000000',\n",
       " 'activity,type=tennis fun_level=5.0, 1571958617000000000',\n",
       " 'activity,location=us fun_level=5.0, 1571958617000000000',\n",
       " 'activity,type=soccer fun_level=6.0, 1571958617000000000',\n",
       " 'activity,location=us fun_level=6.0, 1571958617000000000',\n",
       " 'activity,type=tag fun=2.0, 1571957482000000000',\n",
       " 'activity,location=eur fun=2.0, 1571957482000000000',\n",
       " 'weather,type=None temperature=51.0, 1571958617000000000',\n",
       " 'weather,location=us temperature=51.0, 1571958617000000000',\n",
       " 'activity,type=football fun_level=7.0, 1571958617000000000',\n",
       " 'activity,location=us fun_level=7.0, 1571958617000000000',\n",
       " 'activity,type=swimming fun=1.0, 1571957482000000000',\n",
       " 'activity,location=us fun=1.0, 1571957482000000000',\n",
       " 'activity,type=football fun_level=3.0, 1571958617000000000',\n",
       " 'activity,location=eur fun_level=3.0, 1571958617000000000',\n",
       " 'weather,type=None temperature=81.0, 1571957482000000000',\n",
       " 'weather,location=us-midwest temperature=81.0, 1571957482000000000',\n",
       " 'weather,type=None temperature=82.0, 1571957482000000000',\n",
       " 'weather,location=us-east temperature=82.0, 1571957482000000000',\n",
       " 'weather,type=None temperature=81.0, 1571958617000000000',\n",
       " 'weather,location=eur temperature=81.0, 1571958617000000000',\n",
       " 'activity,type=ballet fun_level=5.0, 1571958617000000000',\n",
       " 'activity,location=eur fun_level=5.0, 1571958617000000000']"
      ]
     },
     "execution_count": 6,
     "metadata": {},
     "output_type": "execute_result"
    }
   ],
   "source": [
    "lp(test,\"measurement\",\"tag_key\",\"tag_value\",\"field\",\"value\",\"datetime\")"
   ]
  },
  {
   "cell_type": "code",
   "execution_count": null,
   "metadata": {},
   "outputs": [],
   "source": [
    "from influxdb_client import InfluxDBClient, Point, WriteOptions\n",
    "from influxdb_client.client.write_api import SYNCHRONOUS\n",
    "\n",
    "_write_client = client.write_api(write_options=WriteOptions(batch_size=1000, \n",
    "                                                            flush_interval=10_000,\n",
    "                                                            jitter_interval=2_000,\n",
    "                                                            retry_interval=5_000))\n",
    "\n",
    "_write_client.write(\"0498523df75cd000\", \"Org\", lines)"
   ]
  }
 ],
 "metadata": {
  "kernelspec": {
   "display_name": "Python 3",
   "language": "python",
   "name": "python3"
  },
  "language_info": {
   "codemirror_mode": {
    "name": "ipython",
    "version": 3
   },
   "file_extension": ".py",
   "mimetype": "text/x-python",
   "name": "python",
   "nbconvert_exporter": "python",
   "pygments_lexer": "ipython3",
   "version": "3.6.9"
  }
 },
 "nbformat": 4,
 "nbformat_minor": 2
}
